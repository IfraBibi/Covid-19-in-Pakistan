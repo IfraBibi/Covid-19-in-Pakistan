{
  "nbformat": 4,
  "nbformat_minor": 0,
  "metadata": {
    "kernelspec": {
      "display_name": "Python 3",
      "language": "python",
      "name": "python3"
    },
    "language_info": {
      "codemirror_mode": {
        "name": "ipython",
        "version": 3
      },
      "file_extension": ".py",
      "mimetype": "text/x-python",
      "name": "python",
      "nbconvert_exporter": "python",
      "pygments_lexer": "ipython3",
      "version": "3.7.4"
    },
    "colab": {
      "name": "DS project pro.ipynb",
      "provenance": [],
      "collapsed_sections": []
    }
  },
  "cells": [
    {
      "cell_type": "code",
      "metadata": {
        "id": "AcHSuRNGfnf4",
        "colab_type": "code",
        "colab": {}
      },
      "source": [
        "import pandas as pd\n",
        "import seaborn as sns\n",
        "from datetime import datetime\n",
        "import numpy as np\n"
      ],
      "execution_count": 0,
      "outputs": []
    },
    {
      "cell_type": "code",
      "metadata": {
        "id": "W7jixAg_fngP",
        "colab_type": "code",
        "colab": {}
      },
      "source": [
        "data1=pd.read_excel('COVID_FINAL_DATA.xlsx',sheet_name='TimeSeries_KeyIndicators')\n",
        "data2=pd.read_excel('COVID_FINAL_DATA.xlsx',sheet_name='TimeSeries_Action_Screen')\n",
        "data3=pd.read_excel('COVID_FINAL_DATA.xlsx',sheet_name='TimeSeries_Action_Call')\n",
        "data4=pd.read_excel('COVID_FINAL_DATA.xlsx',sheet_name='TimeSeries_COVID_News')\n",
        "data5=pd.read_excel('COVID_FINAL_DATA.xlsx',sheet_name='TimeSeries_NIH_Response')\n",
        "data6=pd.read_excel('COVID_FINAL_DATA.xlsx',sheet_name='TimeSeries_NIH_Risk')\n",
        "data7=pd.read_excel('COVID_FINAL_DATA.xlsx',sheet_name='TimeSeries_Province_Response')\n",
        "data8=pd.read_excel('COVID_FINAL_DATA.xlsx',sheet_name='TimeSeries_Helpline_Calls')\n",
        "data9=pd.read_excel('COVID_FINAL_DATA.xlsx',sheet_name='TimeSeries_Quarantine_Details')"
      ],
      "execution_count": 0,
      "outputs": []
    },
    {
      "cell_type": "code",
      "metadata": {
        "id": "TFuP6HPvfngb",
        "colab_type": "code",
        "colab": {}
      },
      "source": [
        "data1.columns=data1.columns.str.strip().str.lower().str.replace(' ','_')\n",
        "data1.drop(['no_heading'],axis=1,inplace=True)\n",
        "data1=data1.dropna(how='all')\n",
        "data1=data1.fillna(0)\n",
        "data1['date']=pd.to_datetime(data1['date'])\n",
        "data1['tests__performed_in_last_24_hours']= data1['tests__performed_in_last_24_hours'].apply(np.int64)\n",
        "data1['tests__performed_in_last_24_hours']=pd.to_numeric(data1['tests__performed_in_last_24_hours'])\n",
        "data1['home_quarantine']=data1['home_quarantine'].apply(np.int64)\n",
        "#datetime_object=datetime.now() \n",
        "#print(datetime_object)\n",
        "#data1['date']=pd.to_datetime(data1['date'],format=\"%d/%m/%y/\")\n",
        "data1['date']=pd.to_datetime(data1['date'])\n",
        "data1['date']=data1['date'].dt.strftime('%m/%d/%y')\n",
        "\n",
        "\n"
      ],
      "execution_count": 0,
      "outputs": []
    },
    {
      "cell_type": "code",
      "metadata": {
        "id": "TyZPUI52fniD",
        "colab_type": "code",
        "outputId": "7b83b557-6aa1-4743-fdb3-fb87c5cb61f9",
        "colab": {
          "base_uri": "https://localhost:8080/",
          "height": 102
        }
      },
      "source": [
        "data2.columns=data2.columns.str.strip().str.lower().str.replace(' ','_')\n",
        "data2['date']=pd.to_datetime(data2['date'])\n",
        "data2['date']=data2['date'].dt.strftime('%m/%d/%y')\n",
        "\n"
      ],
      "execution_count": 0,
      "outputs": [
        {
          "output_type": "execute_result",
          "data": {
            "text/plain": [
              "date                                                     0\n",
              "cumulative_travelers_screened                            0\n",
              "suspected_at_points_of_entry                             0\n",
              "travelers_screened_at_points_ofentry_in_last_24_hours    0\n",
              "dtype: int64"
            ]
          },
          "metadata": {
            "tags": []
          },
          "execution_count": 4
        }
      ]
    },
    {
      "cell_type": "code",
      "metadata": {
        "id": "5CIxGQi9fni1",
        "colab_type": "code",
        "colab": {}
      },
      "source": [
        ""
      ],
      "execution_count": 0,
      "outputs": []
    },
    {
      "cell_type": "code",
      "metadata": {
        "id": "mPBqGIAefnjM",
        "colab_type": "code",
        "outputId": "eb8a643b-231c-4aba-fb84-a43442a08d52",
        "colab": {
          "base_uri": "https://localhost:8080/",
          "height": 153
        }
      },
      "source": [
        "data3.columns=data3.columns.str.strip().str.lower().str.replace(' ','-')\n",
        "data3['date']=pd.to_datetime(data3['date'])\n",
        "data3['date']=data3['date'].dt.strftime('%m/%d/%y')\n"
      ],
      "execution_count": 0,
      "outputs": [
        {
          "output_type": "execute_result",
          "data": {
            "text/plain": [
              "returnees                           0\n",
              "advised-self-quarantine             0\n",
              "cumulative-no-offirst-time-calls    0\n",
              "cumulativefollow-up-calls           0\n",
              "date                                0\n",
              "first-time-calls-inpast-24-hrs      0\n",
              "follow-up-calls-inpast-24-hrs       0\n",
              "dtype: int64"
            ]
          },
          "metadata": {
            "tags": []
          },
          "execution_count": 5
        }
      ]
    },
    {
      "cell_type": "code",
      "metadata": {
        "id": "gEGoMFa3mECg",
        "colab_type": "code",
        "outputId": "7df570fb-a5bd-4b36-da63-e92c0a45c311",
        "colab": {
          "base_uri": "https://localhost:8080/",
          "height": 85
        }
      },
      "source": [
        "data4.columns=data4.columns.str.strip().str.lower().str.replace(' ','-')\n",
        "data4.drop(['no_heading'],axis=1,inplace=True)\n",
        "data4['date']=pd.to_datetime(data4['date'])\n",
        "data4['date']=data4['date'].dt.strftime('%m/%d/%y')\n",
        "data4.isnull().sum()"
      ],
      "execution_count": 0,
      "outputs": [
        {
          "output_type": "execute_result",
          "data": {
            "text/plain": [
              "date        0\n",
              "news        0\n",
              "agg-news    0\n",
              "dtype: int64"
            ]
          },
          "metadata": {
            "tags": []
          },
          "execution_count": 6
        }
      ]
    },
    {
      "cell_type": "code",
      "metadata": {
        "id": "neDvOeCNOlzp",
        "colab_type": "code",
        "outputId": "0fda5926-0446-40f2-dfc9-c0689a211512",
        "colab": {
          "base_uri": "https://localhost:8080/",
          "height": 419
        }
      },
      "source": [
        ""
      ],
      "execution_count": 0,
      "outputs": [
        {
          "output_type": "execute_result",
          "data": {
            "text/html": [
              "<div>\n",
              "<style scoped>\n",
              "    .dataframe tbody tr th:only-of-type {\n",
              "        vertical-align: middle;\n",
              "    }\n",
              "\n",
              "    .dataframe tbody tr th {\n",
              "        vertical-align: top;\n",
              "    }\n",
              "\n",
              "    .dataframe thead th {\n",
              "        text-align: right;\n",
              "    }\n",
              "</style>\n",
              "<table border=\"1\" class=\"dataframe\">\n",
              "  <thead>\n",
              "    <tr style=\"text-align: right;\">\n",
              "      <th></th>\n",
              "      <th>date</th>\n",
              "      <th>nih-preparedness-and-response</th>\n",
              "      <th>agg-nih-preparedness-and-response</th>\n",
              "    </tr>\n",
              "  </thead>\n",
              "  <tbody>\n",
              "    <tr>\n",
              "      <th>0</th>\n",
              "      <td>03/11/20</td>\n",
              "      <td>BSL-3 mobile lab with state of art equipment h...</td>\n",
              "      <td>BSL-3 mobile lab with state of art equipment h...</td>\n",
              "    </tr>\n",
              "    <tr>\n",
              "      <th>1</th>\n",
              "      <td>03/11/20</td>\n",
              "      <td>IPC trainings have been completed at Gilgit an...</td>\n",
              "      <td>BSL-3 mobile lab with state of art equipment h...</td>\n",
              "    </tr>\n",
              "    <tr>\n",
              "      <th>2</th>\n",
              "      <td>03/11/20</td>\n",
              "      <td>Training of the GB lab staff has been conducte...</td>\n",
              "      <td>BSL-3 mobile lab with state of art equipment h...</td>\n",
              "    </tr>\n",
              "    <tr>\n",
              "      <th>3</th>\n",
              "      <td>03/11/20</td>\n",
              "      <td>IPC training is in progress for FG Hospital st...</td>\n",
              "      <td>BSL-3 mobile lab with state of art equipment h...</td>\n",
              "    </tr>\n",
              "    <tr>\n",
              "      <th>4</th>\n",
              "      <td>03/11/20</td>\n",
              "      <td>BSL-3 mobile lab is ready for testing.  •</td>\n",
              "      <td>BSL-3 mobile lab is ready for testing.  • \\n I...</td>\n",
              "    </tr>\n",
              "    <tr>\n",
              "      <th>...</th>\n",
              "      <td>...</td>\n",
              "      <td>...</td>\n",
              "      <td>...</td>\n",
              "    </tr>\n",
              "    <tr>\n",
              "      <th>60</th>\n",
              "      <td>03/21/20</td>\n",
              "      <td>Risk communication carried out among healthcar...</td>\n",
              "      <td>Contact tracing of confirmed cases being carri...</td>\n",
              "    </tr>\n",
              "    <tr>\n",
              "      <th>61</th>\n",
              "      <td>03/21/20</td>\n",
              "      <td>NIH laboratory is providing support to provinc...</td>\n",
              "      <td>Contact tracing of confirmed cases being carri...</td>\n",
              "    </tr>\n",
              "    <tr>\n",
              "      <th>62</th>\n",
              "      <td>03/21/20</td>\n",
              "      <td>Contact tracing of confirmed cases being carri...</td>\n",
              "      <td>Contact tracing of confirmed cases being carri...</td>\n",
              "    </tr>\n",
              "    <tr>\n",
              "      <th>63</th>\n",
              "      <td>03/22/20</td>\n",
              "      <td>Risk communication carried out among healthcar...</td>\n",
              "      <td>Contact tracing of confirmed cases being carri...</td>\n",
              "    </tr>\n",
              "    <tr>\n",
              "      <th>64</th>\n",
              "      <td>03/22/20</td>\n",
              "      <td>NIH laboratory is providing support to provinc...</td>\n",
              "      <td>Contact tracing of confirmed cases being carri...</td>\n",
              "    </tr>\n",
              "  </tbody>\n",
              "</table>\n",
              "<p>65 rows × 3 columns</p>\n",
              "</div>"
            ],
            "text/plain": [
              "        date  ...                  agg-nih-preparedness-and-response\n",
              "0   03/11/20  ...  BSL-3 mobile lab with state of art equipment h...\n",
              "1   03/11/20  ...  BSL-3 mobile lab with state of art equipment h...\n",
              "2   03/11/20  ...  BSL-3 mobile lab with state of art equipment h...\n",
              "3   03/11/20  ...  BSL-3 mobile lab with state of art equipment h...\n",
              "4   03/11/20  ...  BSL-3 mobile lab is ready for testing.  • \\n I...\n",
              "..       ...  ...                                                ...\n",
              "60  03/21/20  ...  Contact tracing of confirmed cases being carri...\n",
              "61  03/21/20  ...  Contact tracing of confirmed cases being carri...\n",
              "62  03/21/20  ...  Contact tracing of confirmed cases being carri...\n",
              "63  03/22/20  ...  Contact tracing of confirmed cases being carri...\n",
              "64  03/22/20  ...  Contact tracing of confirmed cases being carri...\n",
              "\n",
              "[65 rows x 3 columns]"
            ]
          },
          "metadata": {
            "tags": []
          },
          "execution_count": 9
        }
      ]
    },
    {
      "cell_type": "code",
      "metadata": {
        "id": "Wo-fnsWymEW8",
        "colab_type": "code",
        "outputId": "22e8b2dc-2452-471e-87a7-31af233bb9c7",
        "colab": {
          "base_uri": "https://localhost:8080/",
          "height": 85
        }
      },
      "source": [
        "data5.columns=data5.columns.str.strip().str.lower().str.replace(' ','-')\n",
        "#data5.drop(['no_heading'],axis=1,inplace=True)\n",
        "data5['date']=pd.to_datetime(data4['date'])\n",
        "data5['date']=data5['date'].dt.strftime('%m/%d/%y')\n"
      ],
      "execution_count": 0,
      "outputs": [
        {
          "output_type": "execute_result",
          "data": {
            "text/plain": [
              "date                                 0\n",
              "nih-preparedness-and-response        0\n",
              "agg-nih-preparedness-and-response    0\n",
              "dtype: int64"
            ]
          },
          "metadata": {
            "tags": []
          },
          "execution_count": 12
        }
      ]
    },
    {
      "cell_type": "code",
      "metadata": {
        "id": "PpLGGBIvPhtV",
        "colab_type": "code",
        "outputId": "ff03f845-dfcd-4911-9a38-ad3a0158d62b",
        "colab": {
          "base_uri": "https://localhost:8080/",
          "height": 793
        }
      },
      "source": [
        ""
      ],
      "execution_count": 0,
      "outputs": [
        {
          "output_type": "execute_result",
          "data": {
            "text/html": [
              "<div>\n",
              "<style scoped>\n",
              "    .dataframe tbody tr th:only-of-type {\n",
              "        vertical-align: middle;\n",
              "    }\n",
              "\n",
              "    .dataframe tbody tr th {\n",
              "        vertical-align: top;\n",
              "    }\n",
              "\n",
              "    .dataframe thead th {\n",
              "        text-align: right;\n",
              "    }\n",
              "</style>\n",
              "<table border=\"1\" class=\"dataframe\">\n",
              "  <thead>\n",
              "    <tr style=\"text-align: right;\">\n",
              "      <th></th>\n",
              "      <th>date</th>\n",
              "      <th>risk-assessment-nih</th>\n",
              "    </tr>\n",
              "  </thead>\n",
              "  <tbody>\n",
              "    <tr>\n",
              "      <th>0</th>\n",
              "      <td>11-Mar-2020</td>\n",
              "      <td>MODERATE.</td>\n",
              "    </tr>\n",
              "    <tr>\n",
              "      <th>1</th>\n",
              "      <td>12-Mar-2020</td>\n",
              "      <td>MODERATE.</td>\n",
              "    </tr>\n",
              "    <tr>\n",
              "      <th>2</th>\n",
              "      <td>13-Mar-2020</td>\n",
              "      <td>MODERATE.</td>\n",
              "    </tr>\n",
              "    <tr>\n",
              "      <th>3</th>\n",
              "      <td>14-Mar-2020</td>\n",
              "      <td>MODERATE.</td>\n",
              "    </tr>\n",
              "    <tr>\n",
              "      <th>4</th>\n",
              "      <td>15-Mar-2020</td>\n",
              "      <td>Moderate</td>\n",
              "    </tr>\n",
              "    <tr>\n",
              "      <th>5</th>\n",
              "      <td>16-Mar-2020</td>\n",
              "      <td>Moderate</td>\n",
              "    </tr>\n",
              "    <tr>\n",
              "      <th>6</th>\n",
              "      <td>17-Mar-2020</td>\n",
              "      <td>Moderate</td>\n",
              "    </tr>\n",
              "    <tr>\n",
              "      <th>7</th>\n",
              "      <td>18-Mar-2020</td>\n",
              "      <td>Moderate</td>\n",
              "    </tr>\n",
              "    <tr>\n",
              "      <th>8</th>\n",
              "      <td>19-Mar-2020</td>\n",
              "      <td>High</td>\n",
              "    </tr>\n",
              "    <tr>\n",
              "      <th>9</th>\n",
              "      <td>20-Mar-2020</td>\n",
              "      <td>High</td>\n",
              "    </tr>\n",
              "    <tr>\n",
              "      <th>10</th>\n",
              "      <td>21-Mar-2020</td>\n",
              "      <td>High</td>\n",
              "    </tr>\n",
              "    <tr>\n",
              "      <th>11</th>\n",
              "      <td>22-Mar-2020</td>\n",
              "      <td>High</td>\n",
              "    </tr>\n",
              "    <tr>\n",
              "      <th>12</th>\n",
              "      <td>23-Mar-2020</td>\n",
              "      <td>High</td>\n",
              "    </tr>\n",
              "    <tr>\n",
              "      <th>13</th>\n",
              "      <td>24-Mar-2020</td>\n",
              "      <td>High</td>\n",
              "    </tr>\n",
              "    <tr>\n",
              "      <th>14</th>\n",
              "      <td>25-Mar-2020</td>\n",
              "      <td>High</td>\n",
              "    </tr>\n",
              "    <tr>\n",
              "      <th>15</th>\n",
              "      <td>26-Mar-2020</td>\n",
              "      <td>High</td>\n",
              "    </tr>\n",
              "    <tr>\n",
              "      <th>16</th>\n",
              "      <td>27-Mar-2020</td>\n",
              "      <td>High</td>\n",
              "    </tr>\n",
              "    <tr>\n",
              "      <th>17</th>\n",
              "      <td>28-Mar-2020</td>\n",
              "      <td>High</td>\n",
              "    </tr>\n",
              "    <tr>\n",
              "      <th>18</th>\n",
              "      <td>29-Mar-2020</td>\n",
              "      <td>High</td>\n",
              "    </tr>\n",
              "    <tr>\n",
              "      <th>19</th>\n",
              "      <td>30-Mar-2020</td>\n",
              "      <td>High</td>\n",
              "    </tr>\n",
              "    <tr>\n",
              "      <th>20</th>\n",
              "      <td>2020-03-31 00:00:00</td>\n",
              "      <td>High</td>\n",
              "    </tr>\n",
              "    <tr>\n",
              "      <th>21</th>\n",
              "      <td>2020-04-01 00:00:00</td>\n",
              "      <td>High</td>\n",
              "    </tr>\n",
              "    <tr>\n",
              "      <th>22</th>\n",
              "      <td>2020-04-02 00:00:00</td>\n",
              "      <td>High</td>\n",
              "    </tr>\n",
              "    <tr>\n",
              "      <th>23</th>\n",
              "      <td>2020-04-03 00:00:00</td>\n",
              "      <td>High</td>\n",
              "    </tr>\n",
              "  </tbody>\n",
              "</table>\n",
              "</div>"
            ],
            "text/plain": [
              "                   date risk-assessment-nih\n",
              "0           11-Mar-2020           MODERATE.\n",
              "1           12-Mar-2020           MODERATE.\n",
              "2           13-Mar-2020           MODERATE.\n",
              "3           14-Mar-2020           MODERATE.\n",
              "4           15-Mar-2020            Moderate\n",
              "5           16-Mar-2020            Moderate\n",
              "6           17-Mar-2020            Moderate\n",
              "7           18-Mar-2020            Moderate\n",
              "8           19-Mar-2020                High\n",
              "9           20-Mar-2020                High\n",
              "10          21-Mar-2020                High\n",
              "11          22-Mar-2020                High\n",
              "12          23-Mar-2020                High\n",
              "13          24-Mar-2020                High\n",
              "14          25-Mar-2020                High\n",
              "15          26-Mar-2020                High\n",
              "16          27-Mar-2020                High\n",
              "17          28-Mar-2020                High\n",
              "18          29-Mar-2020                High\n",
              "19          30-Mar-2020                High\n",
              "20  2020-03-31 00:00:00                High\n",
              "21  2020-04-01 00:00:00                High\n",
              "22  2020-04-02 00:00:00                High\n",
              "23  2020-04-03 00:00:00                High"
            ]
          },
          "metadata": {
            "tags": []
          },
          "execution_count": 14
        }
      ]
    },
    {
      "cell_type": "code",
      "metadata": {
        "id": "Jom6yIoZfnjq",
        "colab_type": "code",
        "colab": {}
      },
      "source": [
        "data6.columns=data6.columns.str.strip().str.lower().str.replace(' ','-')\n",
        "#data6.drop(['no_heading'],axis=1,inplace=True)\n",
        "#data6=data6.drop(['no_heading'],axis=1)\n",
        "data6['date']=pd.to_datetime(data6['date'])\n",
        "data6['date']=data6['date'].dt.strftime('%m/%d/%y')\n",
        "data6['risk-assessment-nih']=data6['risk-assessment-nih'].str.lower()\n"
      ],
      "execution_count": 0,
      "outputs": []
    },
    {
      "cell_type": "code",
      "metadata": {
        "id": "TcF-4eJefnj5",
        "colab_type": "code",
        "outputId": "fb56fbcb-57fb-4e62-d616-89c9a5e3d60c",
        "colab": {
          "base_uri": "https://localhost:8080/",
          "height": 419
        }
      },
      "source": [
        "data7.columns=data7.columns.str.strip().str.lower().str.replace(' ','-')\n",
        "#data7.drop(['no_heading'],axis=1,inplace=True)\n",
        "#data7=data7.drop(['no_heading'],axis=1)\n",
        "data7['date']=pd.to_datetime(data7['date'])\n",
        "data7['date']=data7['date'].dt.strftime('%m/%d/%y')\n",
        "\n"
      ],
      "execution_count": 0,
      "outputs": [
        {
          "output_type": "execute_result",
          "data": {
            "text/html": [
              "<div>\n",
              "<style scoped>\n",
              "    .dataframe tbody tr th:only-of-type {\n",
              "        vertical-align: middle;\n",
              "    }\n",
              "\n",
              "    .dataframe tbody tr th {\n",
              "        vertical-align: top;\n",
              "    }\n",
              "\n",
              "    .dataframe thead th {\n",
              "        text-align: right;\n",
              "    }\n",
              "</style>\n",
              "<table border=\"1\" class=\"dataframe\">\n",
              "  <thead>\n",
              "    <tr style=\"text-align: right;\">\n",
              "      <th></th>\n",
              "      <th>region</th>\n",
              "      <th>provinces-preparedness-and-response</th>\n",
              "      <th>date</th>\n",
              "      <th>agg-provinces-preparedness-and-response</th>\n",
              "    </tr>\n",
              "  </thead>\n",
              "  <tbody>\n",
              "    <tr>\n",
              "      <th>0</th>\n",
              "      <td>Balochistan</td>\n",
              "      <td>316 newly arrived individuals screened and qua...</td>\n",
              "      <td>03/11/20</td>\n",
              "      <td>316 newly arrived individuals screened and qua...</td>\n",
              "    </tr>\n",
              "    <tr>\n",
              "      <th>1</th>\n",
              "      <td>Balochistan</td>\n",
              "      <td>14 Chinese nationals quarantined at East Bay E...</td>\n",
              "      <td>03/11/20</td>\n",
              "      <td>316 newly arrived individuals screened and qua...</td>\n",
              "    </tr>\n",
              "    <tr>\n",
              "      <th>2</th>\n",
              "      <td>Sindh</td>\n",
              "      <td>Staff deployed to designated quarantine facili...</td>\n",
              "      <td>03/11/20</td>\n",
              "      <td>Staff deployed to designated quarantine facili...</td>\n",
              "    </tr>\n",
              "    <tr>\n",
              "      <th>3</th>\n",
              "      <td>Sindh</td>\n",
              "      <td>Training and orientation sessions for the heal...</td>\n",
              "      <td>03/11/20</td>\n",
              "      <td>Staff deployed to designated quarantine facili...</td>\n",
              "    </tr>\n",
              "    <tr>\n",
              "      <th>4</th>\n",
              "      <td>KP &amp; TD</td>\n",
              "      <td>24 High Dependency Units established across KP...</td>\n",
              "      <td>03/11/20</td>\n",
              "      <td>24 High Dependency Units established across KP...</td>\n",
              "    </tr>\n",
              "    <tr>\n",
              "      <th>...</th>\n",
              "      <td>...</td>\n",
              "      <td>...</td>\n",
              "      <td>...</td>\n",
              "      <td>...</td>\n",
              "    </tr>\n",
              "    <tr>\n",
              "      <th>161</th>\n",
              "      <td>Sindh</td>\n",
              "      <td>Sindh Government has disbursed Rs.569.604 mill...</td>\n",
              "      <td>04/03/20</td>\n",
              "      <td>Sindh Government has disbursed Rs.569.604 mill...</td>\n",
              "    </tr>\n",
              "    <tr>\n",
              "      <th>162</th>\n",
              "      <td>Punjab</td>\n",
              "      <td>District level trainings of HDU/Isolation/Quar...</td>\n",
              "      <td>04/03/20</td>\n",
              "      <td>District level trainings of HDU/Isolation/Quar...</td>\n",
              "    </tr>\n",
              "    <tr>\n",
              "      <th>163</th>\n",
              "      <td>KP</td>\n",
              "      <td>Data transcription on to the IPMS software hos...</td>\n",
              "      <td>04/03/20</td>\n",
              "      <td>Data transcription on to the IPMS software hos...</td>\n",
              "    </tr>\n",
              "    <tr>\n",
              "      <th>164</th>\n",
              "      <td>AJK</td>\n",
              "      <td>Out of 9 confirmed cases, 6 are local transmis...</td>\n",
              "      <td>04/03/20</td>\n",
              "      <td>Out of 9 confirmed cases, 6 are local transmis...</td>\n",
              "    </tr>\n",
              "    <tr>\n",
              "      <th>165</th>\n",
              "      <td>GB</td>\n",
              "      <td>Involvement of WHO staff to provide support in...</td>\n",
              "      <td>04/03/20</td>\n",
              "      <td>Involvement of WHO staff to provide support in...</td>\n",
              "    </tr>\n",
              "  </tbody>\n",
              "</table>\n",
              "<p>166 rows × 4 columns</p>\n",
              "</div>"
            ],
            "text/plain": [
              "          region  ...            agg-provinces-preparedness-and-response\n",
              "0    Balochistan  ...  316 newly arrived individuals screened and qua...\n",
              "1    Balochistan  ...  316 newly arrived individuals screened and qua...\n",
              "2          Sindh  ...  Staff deployed to designated quarantine facili...\n",
              "3          Sindh  ...  Staff deployed to designated quarantine facili...\n",
              "4        KP & TD  ...  24 High Dependency Units established across KP...\n",
              "..           ...  ...                                                ...\n",
              "161        Sindh  ...  Sindh Government has disbursed Rs.569.604 mill...\n",
              "162       Punjab  ...  District level trainings of HDU/Isolation/Quar...\n",
              "163           KP  ...  Data transcription on to the IPMS software hos...\n",
              "164          AJK  ...  Out of 9 confirmed cases, 6 are local transmis...\n",
              "165           GB  ...  Involvement of WHO staff to provide support in...\n",
              "\n",
              "[166 rows x 4 columns]"
            ]
          },
          "metadata": {
            "tags": []
          },
          "execution_count": 24
        }
      ]
    },
    {
      "cell_type": "code",
      "metadata": {
        "id": "yigBKXCpfnkY",
        "colab_type": "code",
        "colab": {}
      },
      "source": [
        "data8.columns=data8.columns.str.strip().str.lower().str.replace(' ','-')\n",
        "#data8=data8.drop(['no_heading'],axis=1)\n",
        "data8['date']=pd.to_datetime(data8['date'])\n",
        "data8['date']=data8['date'].dt.strftime('%m/%d/%y')\n",
        "\n"
      ],
      "execution_count": 0,
      "outputs": []
    },
    {
      "cell_type": "code",
      "metadata": {
        "id": "99_M7s9elGah",
        "colab_type": "code",
        "colab": {}
      },
      "source": [
        "data9.columns=data9.columns.str.strip().str.lower().str.replace(' ','-')\n",
        "#data9.drop(['no_heading'],axis=1,inplace=True)\n",
        "#data9=data9.drop(['no_heading'],axis=1)\n",
        "data9['date']=pd.to_datetime(data9['date'])\n",
        "data9['date']=data9['date'].dt.strftime('%m/%d/%y')\n"
      ],
      "execution_count": 0,
      "outputs": []
    },
    {
      "cell_type": "code",
      "metadata": {
        "id": "rLWd6Np1lyFe",
        "colab_type": "code",
        "colab": {}
      },
      "source": [
        "writer =pd.ExcelWriter('final.xlsx')\n",
        "data1.to_excel(writer,index=False,sheet_name='TimeSeries_KeyIndicators')\n",
        "data2.to_excel(writer,index=False,sheet_name='TimeSeries_Action_Screen')\n",
        "data3.to_excel(writer,index=False,sheet_name='TimeSeries_Action_Call')\n",
        "data4.to_excel(writer,index=False,sheet_name='TimeSeries_COVID_News')\n",
        "data5.to_excel(writer,index=False,sheet_name='TimeSeries_NIH_Response')\n",
        "data6.to_excel(writer,index=False,sheet_name='TimeSeries_NIH_Risk')\n",
        "data7.to_excel(writer,index=False,sheet_name='TimeSeries_Province_Response')\n",
        "data8.to_excel(writer,index=False,sheet_name='TimeSeries_Helpline_Calls')\n",
        "data9.to_excel(writer,index=False,sheet_name='TimeSeries_Quarantine_Details')\n",
        "#workbook=writer.bookworksheet=writer.sheets['TimeSeries_KeyIndicators','TimeSeries_Action_Screen','TimeSeries_Action_Call','TimeSeries_COVID_News','TimeSeries_NIH_Response','TimeSeries_NIH_Risk','TimeSeries_Helpline_Calls','TimeSeries_Quarantine_Details','TimeSeries_Province_Response']\n",
        "writer.save()"
      ],
      "execution_count": 0,
      "outputs": []
    },
    {
      "cell_type": "markdown",
      "metadata": {
        "id": "HOV2I_WLprCS",
        "colab_type": "text"
      },
      "source": [
        ""
      ]
    },
    {
      "cell_type": "code",
      "metadata": {
        "id": "2WJ5oevFpshc",
        "colab_type": "code",
        "colab": {}
      },
      "source": [
        ""
      ],
      "execution_count": 0,
      "outputs": []
    }
  ]
}